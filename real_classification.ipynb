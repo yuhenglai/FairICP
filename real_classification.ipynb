{
 "cells": [
  {
   "cell_type": "code",
   "execution_count": 1,
   "metadata": {},
   "outputs": [],
   "source": [
    "import os\n",
    "os.environ[\"MKL_NUM_THREADS\"] = \"1\" \n",
    "os.environ[\"NUMEXPR_NUM_THREADS\"] = \"1\" \n",
    "os.environ[\"OMP_NUM_THREADS\"] = \"1\" \n",
    "base_path = os.getcwd() + '/data/'\n",
    "import torch\n",
    "import random\n",
    "\n",
    "import get_dataset\n",
    "import numpy as np\n",
    "from FairICP import utility_functions\n",
    "from FairICP import FairICP_learning\n",
    "import warnings\n",
    "warnings.filterwarnings('ignore')\n"
   ]
  },
  {
   "cell_type": "code",
   "execution_count": 2,
   "metadata": {},
   "outputs": [],
   "source": [
    "# load R\n",
    "os.environ['R_HOME'] = r\"user\\R\\R-4.3.0\"\n",
    "os.environ['R_USER'] = r\"user\\anaconda3\\Lib\\site-packages\\rpy2\"\n",
    "\n",
    "from rpy2.robjects.packages import importr\n",
    "KPC = importr('KPC')\n",
    "kernlab = importr('kernlab')\n",
    "import rpy2.robjects\n",
    "from rpy2.robjects import FloatVector"
   ]
  },
  {
   "cell_type": "code",
   "execution_count": 3,
   "metadata": {},
   "outputs": [],
   "source": [
    "seed = 123\n",
    "random.seed(seed)\n",
    "np.random.seed(seed)\n",
    "torch.manual_seed(seed)\n",
    "if torch.cuda.is_available():\n",
    "    torch.cuda.manual_seed_all(seed)\n",
    "\n",
    "# load data\n",
    "X, A, Y, X_cal, A_cal, Y_cal, X_test, A_test, Y_test = get_dataset.get_train_test_data(base_path, \"compas\", seed, dim = 2)\n",
    "input_data_train = np.concatenate((A, X), 1)\n",
    "input_data_test = np.concatenate((A_test, X_test), 1)"
   ]
  },
  {
   "cell_type": "code",
   "execution_count": 4,
   "metadata": {},
   "outputs": [],
   "source": [
    "batch_size = 128\n",
    "lr_loss = 1e-3\n",
    "lr_dis = 1e-3\n",
    "\n",
    "# equalized odds penalty\n",
    "mu_val = 0.8\n",
    "epochs_list = [200]\n",
    "\n",
    "# utility loss\n",
    "cost_pred = torch.nn.CrossEntropyLoss()\n",
    "# base predictive model\n",
    "model_type = \"deep_model\""
   ]
  },
  {
   "cell_type": "code",
   "execution_count": 5,
   "metadata": {},
   "outputs": [],
   "source": [
    "model = FairICP_learning.EquiClassLearner(lr_loss = lr_loss,\n",
    "                                                lr_dis = lr_dis,\n",
    "                                            epochs = epochs_list[-1],\n",
    "                                            loss_steps = 1,\n",
    "                                            dis_steps = 1,\n",
    "                                            cost_pred = cost_pred,\n",
    "                                            in_shape = X.shape[1],\n",
    "                                            batch_size = batch_size,\n",
    "                                            model_type = model_type,\n",
    "                                            lambda_vec = mu_val,\n",
    "                                            num_classes = 2,\n",
    "                                            A_shape = A.shape[1]\n",
    "                                            )\n",
    "model.fit(input_data_train, Y, epochs_list = epochs_list)"
   ]
  },
  {
   "cell_type": "code",
   "execution_count": 6,
   "metadata": {},
   "outputs": [],
   "source": [
    "log_lik_mat = utility_functions.Class_density_estimation(Y_test, A_test, Y_test, A_test)\n",
    "\n",
    "y_perm_index = np.squeeze(utility_functions.generate_X_CPT(50, 100, log_lik_mat))\n",
    "A_perm_index = np.argsort(y_perm_index)\n",
    "A_tilde_list = A_test[A_perm_index]"
   ]
  },
  {
   "cell_type": "code",
   "execution_count": 7,
   "metadata": {},
   "outputs": [
    {
     "name": "stdout",
     "output_type": "stream",
     "text": [
      "misclassification rate: 0.3977272727272727\n",
      "estimated KPC: -0.010061525732395419\n",
      "p-value: 0.7227722772277227\n"
     ]
    }
   ],
   "source": [
    "for i, cp in enumerate(model.checkpoint_list):\n",
    "    model.model = model.cp_model_list[i]\n",
    "    model.dis = model.cp_dis_list[i]\n",
    "\n",
    "    Yhat_out_train = model.predict(input_data_train)\n",
    "    Yhat_out_test = model.predict(input_data_test)\n",
    "\n",
    "    rmse_model = 1 - utility_functions.compute_acc_numpy(Yhat_out_test, Y_test)\n",
    "    print(f\"misclassification rate: {rmse_model}\")\n",
    "\n",
    "    rYhat = rpy2.robjects.r.matrix(FloatVector(Yhat_out_test.T.flatten()), nrow=Yhat_out_test.shape[0], ncol=Yhat_out_test.shape[1])\n",
    "    rZ = rpy2.robjects.r.matrix(FloatVector(A_test.T.flatten()), nrow=A_test.shape[0], ncol=A_test.shape[1]) # rpy2.robjects.r.matrix\n",
    "    rY = rpy2.robjects.r.matrix(FloatVector(Y_test), nrow=A_test.shape[0], ncol=1)\n",
    "    \n",
    "    stat = KPC.KPCgraph \n",
    "    res_ = stat(Y = rYhat, X = rY, Z = rZ, Knn = 1)[0]\n",
    "    print(f\"estimated KPC: {res_}\")\n",
    "    res_list = np.zeros(100)\n",
    "    for i in range(100):\n",
    "        At_test = A_tilde_list[i]\n",
    "        rZt = rpy2.robjects.r.matrix(FloatVector(At_test.T.flatten()), nrow=A_test.shape[0], ncol=A_test.shape[1])\n",
    "        res_list[i] = stat(Y = rYhat, X = rY, Z = rZt, Knn = 1)[0]\n",
    "    p_val = 1.0/(100+1) * (1 + sum(res_list >= res_))\n",
    "    print(f\"p-value: {p_val}\")"
   ]
  }
 ],
 "metadata": {
  "kernelspec": {
   "display_name": "base",
   "language": "python",
   "name": "python3"
  },
  "language_info": {
   "codemirror_mode": {
    "name": "ipython",
    "version": 3
   },
   "file_extension": ".py",
   "mimetype": "text/x-python",
   "name": "python",
   "nbconvert_exporter": "python",
   "pygments_lexer": "ipython3",
   "version": "3.10.9"
  },
  "orig_nbformat": 4,
  "vscode": {
   "interpreter": {
    "hash": "49cb93f377a7abe7414b7b0f21fb3017538004a126cf690fb524202736b7fb92"
   }
  }
 },
 "nbformat": 4,
 "nbformat_minor": 2
}
